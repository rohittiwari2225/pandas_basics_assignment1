{
 "cells": [
  {
   "cell_type": "markdown",
   "metadata": {},
   "source": [
    "Q1. Create a Pandas Series that contains the following data: 4, 8, 15, 16, 23, and 42. Then, print the series."
   ]
  },
  {
   "cell_type": "code",
   "execution_count": 2,
   "metadata": {},
   "outputs": [
    {
     "name": "stdout",
     "output_type": "stream",
     "text": [
      "0     4\n",
      "1     8\n",
      "2    15\n",
      "3    16\n",
      "4    23\n",
      "5    42\n",
      "dtype: int64\n"
     ]
    }
   ],
   "source": [
    "import pandas as pd\n",
    "#creating pandas series\n",
    "data=[4,8,15,16,23,42]\n",
    "series=pd.Series(data)\n",
    "print(series)\n"
   ]
  },
  {
   "cell_type": "markdown",
   "metadata": {},
   "source": [
    "Q2. Create a variable of list type containing 10 elements in it, and apply pandas.Series function on the\n",
    "variable print it."
   ]
  },
  {
   "cell_type": "code",
   "execution_count": 4,
   "metadata": {},
   "outputs": [
    {
     "name": "stdout",
     "output_type": "stream",
     "text": [
      "0      1\n",
      "1      2\n",
      "2      3\n",
      "3      4\n",
      "4      5\n",
      "5      6\n",
      "6     76\n",
      "7     65\n",
      "8      t\n",
      "9      t\n",
      "10    rt\n",
      "dtype: object\n"
     ]
    }
   ],
   "source": [
    "list_var=[1,2,3,4,5,6,76,65,\"t\",\"t\",\"rt\"]\n",
    "series1=pd.Series(list_var)\n",
    "print(series1)"
   ]
  },
  {
   "cell_type": "markdown",
   "metadata": {},
   "source": [
    "Q3. Create a Pandas DataFrame that contains the following data:\n",
    "\n",
    "Then, print the DataFrame.\n",
    "\n",
    "Name\n",
    "Alice\n",
    "Bob\n",
    "Claire\n",
    "\n",
    "Age\n",
    "25\n",
    "30\n",
    "27\n",
    "\n",
    "Gender\n",
    "Female\n",
    "Male\n",
    "Female"
   ]
  },
  {
   "cell_type": "code",
   "execution_count": 4,
   "metadata": {},
   "outputs": [
    {
     "name": "stdout",
     "output_type": "stream",
     "text": [
      "     name  age  gender\n",
      "0   alice   25  female\n",
      "1     bob   30    male\n",
      "2  claire   27  female\n"
     ]
    }
   ],
   "source": [
    "import pandas as pd \n",
    "data ={ \n",
    "    'name':['alice','bob','claire'],\n",
    "    'age':[25,30,27],\n",
    "    'gender':['female','male','female']\n",
    "}\n",
    "df=pd.DataFrame(data)\n",
    "print(df)"
   ]
  },
  {
   "cell_type": "markdown",
   "metadata": {},
   "source": [
    "Q4. What is ‘DataFrame’ in pandas and how is it different from pandas.series? Explain with an example.\n",
    "Ans:-Dataframe\n",
    "*Structure:It is a 2-dimentional labeled data structure with columns that can be of different types(like a table in a database or an Excel spreadsheet)\n",
    "features:\n",
    ">row and column are both labeled.\n",
    ">can hold multiple data types \n",
    ">Easily manipulated and aggregated based on labels.\n",
    "\n",
    "Series\n",
    "Structure: It is a 1-dimensional labeled array capable of holding data of any type (similar to a single column of an Excel sheet).\n",
    "\n",
    "Features:\n",
    "\n",
    ">Contains an index.\n",
    "\n",
    ">Holds a single data type.\n",
    "\n",
    ">Essentially, a column in a DataFrame."
   ]
  },
  {
   "cell_type": "markdown",
   "metadata": {},
   "source": [
    "Q5. What are some common functions you can use to manipulate data in a Pandas DataFrame? Can\n",
    "you give an example of when you might use one of these functions?\n",
    "Ans:-\n",
    "Pandas is a powerhouse for data manipulation! Here are some common functions and their applications:\n",
    "\n",
    "1. head() and tail()\n",
    "Purpose: To view the first few or last few rows of the DataFrame.\n",
    "\n",
    "Example: df.head(5) shows the first 5 rows.\n",
    "\n",
    "2. describe()\n",
    "Purpose: Provides a summary of statistics for numerical columns.\n",
    "\n",
    "Example: df.describe() gives count, mean, std deviation, min, max, and quartile values.\n",
    "\n",
    "3. drop()\n",
    "Purpose: Removes specified labels from rows or columns.\n",
    "\n",
    "Example: df.drop(['column1', 'column2'], axis=1) removes columns column1 and column2."
   ]
  },
  {
   "cell_type": "markdown",
   "metadata": {},
   "source": [
    "Q6. Which of the following is mutable in nature Series, DataFrame, Panel?\n",
    "DataFrame is mutable in nature. This means you can modify its elements, add or remove rows and columns, and change its size after it's created.   \n",
    "\n",
    "Series and Panel are immutable, meaning their size and content cannot be changed once they are created."
   ]
  },
  {
   "cell_type": "markdown",
   "metadata": {},
   "source": [
    "Q7. Create a DataFrame using multiple Series. Explain with an example.\n"
   ]
  },
  {
   "cell_type": "code",
   "execution_count": 3,
   "metadata": {},
   "outputs": [
    {
     "name": "stdout",
     "output_type": "stream",
     "text": [
      "   column1  column2  column3\n",
      "a        1        4        7\n",
      "b        2        5        8\n",
      "c        3        6        9\n"
     ]
    }
   ],
   "source": [
    "import pandas as pd \n",
    "series1= pd.Series([1,2,3],index=['a','b','c'])\n",
    "series2=pd.Series([4,5,6],index=['a','b','c'])\n",
    "series3=pd.Series([7,8,9],['a','b','c'])\n",
    "dframe = pd.DataFrame({'column1':series1,\"column2\":series2,\"column3\":series3})\n",
    "print(dframe)"
   ]
  }
 ],
 "metadata": {
  "kernelspec": {
   "display_name": "Python 3",
   "language": "python",
   "name": "python3"
  },
  "language_info": {
   "codemirror_mode": {
    "name": "ipython",
    "version": 3
   },
   "file_extension": ".py",
   "mimetype": "text/x-python",
   "name": "python",
   "nbconvert_exporter": "python",
   "pygments_lexer": "ipython3",
   "version": "3.12.5"
  }
 },
 "nbformat": 4,
 "nbformat_minor": 2
}
